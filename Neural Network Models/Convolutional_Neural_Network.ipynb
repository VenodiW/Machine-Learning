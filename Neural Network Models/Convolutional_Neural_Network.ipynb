{
  "nbformat": 4,
  "nbformat_minor": 0,
  "metadata": {
    "colab": {
      "provenance": [],
      "collapsed_sections": [],
      "authorship_tag": "ABX9TyMhxBBdO2qNWSrAJBAUEb+M",
      "include_colab_link": true
    },
    "kernelspec": {
      "name": "python3",
      "display_name": "Python 3"
    },
    "language_info": {
      "name": "python"
    }
  },
  "cells": [
    {
      "cell_type": "markdown",
      "metadata": {
        "id": "view-in-github",
        "colab_type": "text"
      },
      "source": [
        "<a href=\"https://colab.research.google.com/github/VenodiW/Machine-Learning/blob/main/Convolutional_Neural_Network.ipynb\" target=\"_parent\"><img src=\"https://colab.research.google.com/assets/colab-badge.svg\" alt=\"Open In Colab\"/></a>"
      ]
    },
    {
      "cell_type": "markdown",
      "source": [
        "# Convolutional neural network - Fashion-MNIST"
      ],
      "metadata": {
        "id": "F12IT4OG8ODz"
      }
    },
    {
      "cell_type": "markdown",
      "source": [
        "## Table of Content\n",
        "   \n",
        "1. [Data Description](#cell_Preparation)\n",
        "\n",
        "2. [Data Preprocessing](#cell_Preprocessing)\n",
        "\n",
        "3. [Model Construction](#cell_model)\n",
        "\n",
        "4. [Model Execution](#cell_execution)\n",
        " \n",
        "5. [Experiments Report](#cell_report)"
      ],
      "metadata": {
        "id": "unSLr4h48r7a"
      }
    },
    {
      "cell_type": "markdown",
      "source": [
        "## Executive Summary"
      ],
      "metadata": {
        "id": "MWxjHSAK80-U"
      }
    },
    {
      "cell_type": "markdown",
      "source": [
        "*The 'fashion-mnist_train' dataset has been used to train the neural network model to classify the clothing images *\n",
        "\n",
        "*According to the model explained below, the sum of errors made for each example in training or validation sets is close to 4.1323 and the model has a 75.58% of accuracy with the predicted data compared to the true data.*"
      ],
      "metadata": {
        "id": "2iidrpJa838c"
      }
    },
    {
      "cell_type": "markdown",
      "source": [
        "<a id = \"cell_Preparation\"></a>\n",
        "## 1. Data Description"
      ],
      "metadata": {
        "id": "MCUUNwVdEA1H"
      }
    },
    {
      "cell_type": "markdown",
      "source": [
        "Fashion-MNIST is a dataset of Zalando's article images—consisting of a training set of 60,000 examples. Each example is a 28x28 grayscale image,\n",
        "associated with a label from 10 classes. The dataset is consisting of 785 pixel coloums."
      ],
      "metadata": {
        "id": "LxAO07VuEE-i"
      }
    },
    {
      "cell_type": "code",
      "execution_count": null,
      "metadata": {
        "id": "XSbCgm0PChUz"
      },
      "outputs": [],
      "source": [
        "#Importing the libraries\n",
        "import keras\n",
        "from keras.models import Sequential\n",
        "from keras.layers.core import Dense, Dropout, Activation, Flatten\n",
        "from keras.layers.convolutional import Convolution2D, MaxPooling2D\n",
        "from keras.utils import np_utils\n",
        "from sklearn.model_selection import train_test_split\n",
        "import pandas as pd\n",
        "import numpy as np "
      ]
    },
    {
      "cell_type": "code",
      "source": [
        "#Importing the dataset\n",
        "fashion = pd.read_csv('fashion-mnist_train.csv')\n",
        "print(fashion.head())\n",
        "fashion.shape"
      ],
      "metadata": {
        "id": "K_GC9z-HDAfz",
        "colab": {
          "base_uri": "https://localhost:8080/"
        },
        "outputId": "f49abd70-7114-4f37-9316-58a559054ffb"
      },
      "execution_count": null,
      "outputs": [
        {
          "output_type": "stream",
          "name": "stdout",
          "text": [
            "   label  pixel1  pixel2  pixel3  pixel4  pixel5  pixel6  pixel7  pixel8  \\\n",
            "0      2       0       0       0       0       0       0       0       0   \n",
            "1      9       0       0       0       0       0       0       0       0   \n",
            "2      6       0       0       0       0       0       0       0       5   \n",
            "3      0       0       0       0       1       2       0       0       0   \n",
            "4      3       0       0       0       0       0       0       0       0   \n",
            "\n",
            "   pixel9  ...  pixel775  pixel776  pixel777  pixel778  pixel779  pixel780  \\\n",
            "0       0  ...         0         0         0         0         0         0   \n",
            "1       0  ...         0         0         0         0         0         0   \n",
            "2       0  ...         0         0         0        30        43         0   \n",
            "3       0  ...         3         0         0         0         0         1   \n",
            "4       0  ...         0         0         0         0         0         0   \n",
            "\n",
            "   pixel781  pixel782  pixel783  pixel784  \n",
            "0         0         0         0         0  \n",
            "1         0         0         0         0  \n",
            "2         0         0         0         0  \n",
            "3         0         0         0         0  \n",
            "4         0         0         0         0  \n",
            "\n",
            "[5 rows x 785 columns]\n"
          ]
        },
        {
          "output_type": "execute_result",
          "data": {
            "text/plain": [
              "(60000, 785)"
            ]
          },
          "metadata": {},
          "execution_count": 7
        }
      ]
    },
    {
      "cell_type": "code",
      "source": [
        "#reshaping into 28X28 array\n",
        "fashion.iloc[3,1:].values.reshape(28,28).astype('uint8')"
      ],
      "metadata": {
        "colab": {
          "base_uri": "https://localhost:8080/"
        },
        "id": "zfvbx_1PDhVe",
        "outputId": "37252c3b-f639-480e-fa77-c1a206953735"
      },
      "execution_count": null,
      "outputs": [
        {
          "output_type": "execute_result",
          "data": {
            "text/plain": [
              "array([[  0,   0,   0,   1,   2,   0,   0,   0,   0,   0, 114, 183, 112,\n",
              "         55,  23,  72, 102, 165, 160,  28,   0,   0,   0,   1,   0,   0,\n",
              "          0,   0],\n",
              "       [  0,   0,   0,   0,   1,   0,   0,  24, 188, 163,  93, 136, 153,\n",
              "        168, 252, 174, 136, 166, 130, 123, 131,  66,   0,   0,   1,   0,\n",
              "          0,   0],\n",
              "       [  0,   0,   0,   2,   0,  10, 157, 216, 226, 208, 142,  66, 115,\n",
              "        149, 230, 190, 196, 198, 172, 222, 107, 165, 211,   0,   0,   0,\n",
              "          0,   0],\n",
              "       [  0,   0,   0,   0,   0, 118, 214, 174, 168, 109, 200, 124, 150,\n",
              "        143,  58,  63,  89, 137,  97, 168, 138, 142, 195, 156,   0,   0,\n",
              "          0,   0],\n",
              "       [  0,   0,   0,   0,  25, 140,  70,  80,  43,  71,  96,  93, 151,\n",
              "        121, 197, 143, 107,  82, 101, 111,  80, 137, 193, 208,   6,   0,\n",
              "          0,   0],\n",
              "       [  0,   0,   0,   0,  74, 194, 107, 146, 178, 185, 182,  77, 185,\n",
              "        218, 210, 175, 174, 235, 217, 217, 129, 180, 210, 208,  89,   0,\n",
              "          0,   0],\n",
              "       [  0,   0,   0,   0, 179, 213, 203, 177, 228, 192, 193, 162, 143,\n",
              "        172, 196, 205, 181, 180, 140, 134, 176, 194, 171, 170,  65,   0,\n",
              "          0,   0],\n",
              "       [  0,   0,   0,   0, 184, 194, 229, 209, 176, 198, 129, 227, 225,\n",
              "        140, 196, 130, 179, 145, 109,  79, 182, 223, 164, 195, 233,   0,\n",
              "          0,   0],\n",
              "       [  0,   0,   0,  38, 180, 177, 213, 202, 159, 129,  98, 179, 149,\n",
              "         90, 187, 211,  61, 134,  91,  57, 118, 212, 220, 218, 207,   0,\n",
              "          0,   0],\n",
              "       [  0,   0,   0, 114, 154, 142, 182, 219, 130,  88,  81,  52,  54,\n",
              "        106,  93, 110, 159, 222, 227,  83, 117, 253, 218, 210, 206,  48,\n",
              "          0,   0],\n",
              "       [  0,   0,   0,  18, 127, 208, 228, 185, 172, 240,  91, 126, 208,\n",
              "        165, 154, 213, 214, 229, 215, 175, 222, 204, 153, 130, 125,  39,\n",
              "          0,   0],\n",
              "       [  0,   0,   0,   0,   0,   0,  28,   0, 212, 228, 170, 221, 205,\n",
              "        225, 228, 210, 178, 214,  89, 117, 213,   0,   0,   0,   0,   0,\n",
              "          0,   0],\n",
              "       [  0,   0,   0,   0,   0,   0,   0,   0, 196, 141,  56, 176, 210,\n",
              "        164, 162,  91, 135, 196, 158,  69, 181,   0,   0,   3,   2,   3,\n",
              "          0,   0],\n",
              "       [  0,   0,   0,   0,   0,   1,   0,   0, 150, 190,  88,  50, 145,\n",
              "        194, 159, 120, 136, 207, 230, 144, 171,   4,   0,   1,   0,   0,\n",
              "          0,   0],\n",
              "       [  0,   0,   0,   0,   0,   0,   0,   0, 187, 220, 182,  72, 139,\n",
              "        199, 192, 232, 255, 244, 198, 170, 189,   2,   0,   3,   0,   0,\n",
              "          0,   0],\n",
              "       [  0,   0,   0,   0,   0,   0,   0,   0, 186, 175, 181,  93, 164,\n",
              "        230, 134, 153, 142, 137,  79, 143, 183,   0,   0,   2,   0,   0,\n",
              "          0,   0],\n",
              "       [  0,   0,   0,   0,   0,   0,   0,   0,  93,  72, 144, 138, 164,\n",
              "        113, 124,  98,  80,  57,  97, 138, 124,   4,   0,   3,   0,   0,\n",
              "          0,   0],\n",
              "       [  0,   0,   0,   0,   0,   0,   0,   0, 149, 171,  98,  70, 180,\n",
              "        152, 227, 173, 143, 180, 183, 127, 206,  38,   0,   5,   0,   0,\n",
              "          0,   0],\n",
              "       [  0,   0,   0,   0,   1,   0,   0,   0, 195, 210, 226, 113, 187,\n",
              "        224, 210, 191, 181, 224, 212, 198, 172,  36,   0,   6,   0,   0,\n",
              "          0,   0],\n",
              "       [  0,   0,   0,   0,   1,   0,   0,   0, 153, 197, 171, 175, 161,\n",
              "        171, 199, 224, 187, 206, 192, 176, 179,  48,   0,   6,   1,   0,\n",
              "          0,   0],\n",
              "       [  0,   0,   0,   0,   0,   0,   0,   0, 180, 195, 136, 230, 240,\n",
              "        148, 204, 140, 173, 199, 193, 156, 213,  37,   0,   5,   0,   0,\n",
              "          0,   0],\n",
              "       [  0,   0,   0,   0,   0,   1,   0,   0, 150, 101,  72, 167, 158,\n",
              "         95, 177, 234, 113, 142, 112,  59, 152,  22,   0,   3,   0,   0,\n",
              "          0,   0],\n",
              "       [  0,   0,   0,   0,   0,   0,   0,   0, 197, 178,  82,  47,  64,\n",
              "        106, 112, 121, 110, 189, 225, 121,  98,  58,   0,   4,   0,   0,\n",
              "          0,   0],\n",
              "       [  0,   0,   0,   0,   0,   2,   0,   0, 202, 219, 161, 135, 205,\n",
              "        200, 156, 195, 231, 234, 218, 182, 223,  99,   0,   6,   0,   0,\n",
              "          0,   0],\n",
              "       [  0,   0,   0,   0,   0,   4,   0,   0, 188, 152, 118, 222, 214,\n",
              "        203, 233, 226, 193, 200, 173,  53, 166,  97,   0,   6,   0,   0,\n",
              "          0,   0],\n",
              "       [  0,   0,   0,   0,   0,   3,   0,   2, 182, 152,  51,  89, 174,\n",
              "        183, 168, 112, 109, 181, 170, 136, 108,  60,   0,   4,   0,   0,\n",
              "          0,   0],\n",
              "       [  0,   0,   0,   0,   0,   2,   0,   5, 194, 193, 204, 104, 116,\n",
              "        241, 217, 196, 171, 249, 207, 197, 202,  45,   0,   3,   0,   0,\n",
              "          0,   0],\n",
              "       [  0,   0,   0,   0,   0,   0,   1,   0,   0,   0,  22,  21,  25,\n",
              "         69,  52,  45,  74,  39,   3,   0,   0,   0,   0,   1,   0,   0,\n",
              "          0,   0]], dtype=uint8)"
            ]
          },
          "metadata": {},
          "execution_count": 5
        }
      ]
    },
    {
      "cell_type": "markdown",
      "source": [
        "<a id = \"cell_Preprocessing\"></a>\n",
        "## 2. Data Preprocessing"
      ],
      "metadata": {
        "id": "DpLSJo4Fbns3"
      }
    },
    {
      "cell_type": "code",
      "source": [
        "#Storing Pixel array in form length width and channel in df_x\n",
        "df_x = fashion.iloc[:,1:].values.reshape(len(fashion),28,28,1)\n",
        "\n",
        "#Storing the labels in y\n",
        "y = fashion.iloc[:,0].values\n",
        "#Converting labels to categorical features\n",
        "df_y = keras.utils.np_utils.to_categorical(y,num_classes=10)\n",
        "\n",
        "df_x = np.array(df_x)\n",
        "df_y = np.array(df_y)\n",
        "\n",
        "#lables\n",
        "y\n",
        "#categorical labels\n",
        "df_y\n",
        "df_x.shape"
      ],
      "metadata": {
        "colab": {
          "base_uri": "https://localhost:8080/"
        },
        "id": "4X4AWr2ebm0w",
        "outputId": "72372b6b-a228-49cf-efe6-fe50427d6315"
      },
      "execution_count": null,
      "outputs": [
        {
          "output_type": "execute_result",
          "data": {
            "text/plain": [
              "(60000, 28, 28, 1)"
            ]
          },
          "metadata": {},
          "execution_count": 8
        }
      ]
    },
    {
      "cell_type": "markdown",
      "source": [
        "<a id = \"cell_model\"></a>\n",
        "## 3. Model Construction"
      ],
      "metadata": {
        "id": "5uVQ6k4wxDlg"
      }
    },
    {
      "cell_type": "code",
      "source": [
        "#test train split\n",
        "x_train, x_test, y_train, y_test = train_test_split(df_x,df_y,test_size=0.2,random_state=4)"
      ],
      "metadata": {
        "id": "0tKy0znUBNy9"
      },
      "execution_count": null,
      "outputs": []
    },
    {
      "cell_type": "code",
      "source": [
        "model = Sequential()\n",
        "model.add(Convolution2D(32,3,data_format='channels_last',activation='relu',input_shape=(28,28,1)))\n",
        "model.add(MaxPooling2D(pool_size=(2,2)))\n",
        "model.add(Flatten())\n",
        "model.add(Dense(100))\n",
        "model.add(Dropout(0.5))\n",
        "model.add(Dense(10))\n",
        "model.add(Activation('softmax'))\n",
        "model.compile(loss='categorical_crossentropy', optimizer = 'adadelta', metrics = ['accuracy'])\n",
        "model.summary()"
      ],
      "metadata": {
        "colab": {
          "base_uri": "https://localhost:8080/"
        },
        "id": "TxAuRMy5xIN_",
        "outputId": "9fb44881-cee3-45fd-91cc-d5b81e838d80"
      },
      "execution_count": null,
      "outputs": [
        {
          "output_type": "stream",
          "name": "stdout",
          "text": [
            "Model: \"sequential\"\n",
            "_________________________________________________________________\n",
            " Layer (type)                Output Shape              Param #   \n",
            "=================================================================\n",
            " conv2d (Conv2D)             (None, 26, 26, 32)        320       \n",
            "                                                                 \n",
            " max_pooling2d (MaxPooling2D  (None, 13, 13, 32)       0         \n",
            " )                                                               \n",
            "                                                                 \n",
            " flatten (Flatten)           (None, 5408)              0         \n",
            "                                                                 \n",
            " dense (Dense)               (None, 100)               540900    \n",
            "                                                                 \n",
            " dropout (Dropout)           (None, 100)               0         \n",
            "                                                                 \n",
            " dense_1 (Dense)             (None, 10)                1010      \n",
            "                                                                 \n",
            " activation (Activation)     (None, 10)                0         \n",
            "                                                                 \n",
            "=================================================================\n",
            "Total params: 542,230\n",
            "Trainable params: 542,230\n",
            "Non-trainable params: 0\n",
            "_________________________________________________________________\n"
          ]
        }
      ]
    },
    {
      "cell_type": "markdown",
      "source": [
        "<a id = \"cell_execution\"></a>\n",
        "## 4. Model Execution"
      ],
      "metadata": {
        "id": "IuGx833FFSRn"
      }
    },
    {
      "cell_type": "code",
      "source": [
        "#fitting it with just 100 images for testing \n",
        "\n",
        "model.fit(x_train,y_train, validation_data=(x_test,y_test), epochs=10)"
      ],
      "metadata": {
        "colab": {
          "base_uri": "https://localhost:8080/"
        },
        "id": "w0wcR4lLyIvl",
        "outputId": "45e1515d-6418-43e2-a9d0-508953ca28fb"
      },
      "execution_count": null,
      "outputs": [
        {
          "output_type": "stream",
          "name": "stdout",
          "text": [
            "Epoch 1/10\n",
            "1500/1500 [==============================] - 35s 23ms/step - loss: 5.6739 - accuracy: 0.7026 - val_loss: 2.8912 - val_accuracy: 0.7983\n",
            "Epoch 2/10\n",
            "1500/1500 [==============================] - 34s 23ms/step - loss: 5.3875 - accuracy: 0.7102 - val_loss: 2.7845 - val_accuracy: 0.8033\n",
            "Epoch 3/10\n",
            "1500/1500 [==============================] - 34s 22ms/step - loss: 5.1455 - accuracy: 0.7205 - val_loss: 2.6960 - val_accuracy: 0.8074\n",
            "Epoch 4/10\n",
            "1500/1500 [==============================] - 34s 23ms/step - loss: 4.9280 - accuracy: 0.7271 - val_loss: 2.6301 - val_accuracy: 0.8114\n",
            "Epoch 5/10\n",
            "1500/1500 [==============================] - 34s 22ms/step - loss: 4.7559 - accuracy: 0.7337 - val_loss: 2.5428 - val_accuracy: 0.8154\n",
            "Epoch 6/10\n",
            "1500/1500 [==============================] - 34s 23ms/step - loss: 4.6329 - accuracy: 0.7365 - val_loss: 2.4809 - val_accuracy: 0.8197\n",
            "Epoch 7/10\n",
            "1500/1500 [==============================] - 34s 22ms/step - loss: 4.4885 - accuracy: 0.7415 - val_loss: 2.4502 - val_accuracy: 0.8210\n",
            "Epoch 8/10\n",
            "1500/1500 [==============================] - 36s 24ms/step - loss: 4.3433 - accuracy: 0.7478 - val_loss: 2.3744 - val_accuracy: 0.8244\n",
            "Epoch 9/10\n",
            "1500/1500 [==============================] - 34s 22ms/step - loss: 4.2293 - accuracy: 0.7505 - val_loss: 2.3317 - val_accuracy: 0.8263\n",
            "Epoch 10/10\n",
            "1500/1500 [==============================] - 34s 22ms/step - loss: 4.1323 - accuracy: 0.7558 - val_loss: 2.2881 - val_accuracy: 0.8281\n"
          ]
        },
        {
          "output_type": "execute_result",
          "data": {
            "text/plain": [
              "<keras.callbacks.History at 0x7fb9d1a78d90>"
            ]
          },
          "metadata": {},
          "execution_count": 18
        }
      ]
    },
    {
      "cell_type": "code",
      "source": [
        "model.evaluate(x_test,y_test)"
      ],
      "metadata": {
        "id": "6B-nPGM4BaOm",
        "colab": {
          "base_uri": "https://localhost:8080/"
        },
        "outputId": "90caf208-8a19-45fe-d27b-bcecdb3461d9"
      },
      "execution_count": null,
      "outputs": [
        {
          "output_type": "stream",
          "name": "stdout",
          "text": [
            "375/375 [==============================] - 3s 8ms/step - loss: 2.2881 - accuracy: 0.8281\n"
          ]
        },
        {
          "output_type": "execute_result",
          "data": {
            "text/plain": [
              "[2.2881383895874023, 0.828083336353302]"
            ]
          },
          "metadata": {},
          "execution_count": 19
        }
      ]
    },
    {
      "cell_type": "markdown",
      "source": [
        "<a id = \"cell_report\"></a>\n",
        "## 5. Experiments Report"
      ],
      "metadata": {
        "id": "JMWUAO6mFWJH"
      }
    },
    {
      "cell_type": "markdown",
      "source": [
        "To evaluate the model we created, it has a accuracy of 82.81% with the predicted data. Therefore, this is fairly a successful prediction model using the convolutional neural network model."
      ],
      "metadata": {
        "id": "AksFacYIFXA1"
      }
    }
  ]
}
