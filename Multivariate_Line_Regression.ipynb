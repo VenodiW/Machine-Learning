{
  "nbformat": 4,
  "nbformat_minor": 0,
  "metadata": {
    "colab": {
      "provenance": [],
      "collapsed_sections": [],
      "include_colab_link": true
    },
    "kernelspec": {
      "name": "python3",
      "display_name": "Python 3"
    },
    "language_info": {
      "name": "python"
    }
  },
  "cells": [
    {
      "cell_type": "markdown",
      "metadata": {
        "id": "view-in-github",
        "colab_type": "text"
      },
      "source": [
        "<a href=\"https://colab.research.google.com/github/VenodiW/Machine-Learning/blob/main/Multivariate_Line_Regression.ipynb\" target=\"_parent\"><img src=\"https://colab.research.google.com/assets/colab-badge.svg\" alt=\"Open In Colab\"/></a>"
      ]
    },
    {
      "cell_type": "code",
      "execution_count": null,
      "metadata": {
        "colab": {
          "base_uri": "https://localhost:8080/"
        },
        "id": "oHEaxl2vjC7y",
        "outputId": "f30e9d13-f9ff-4801-f3d8-576910cc8d6c"
      },
      "outputs": [
        {
          "output_type": "stream",
          "name": "stdout",
          "text": [
            "0.7854644532757995\n"
          ]
        }
      ],
      "source": [
        "import pandas\n",
        "from sklearn import linear_model\n",
        "from sklearn.metrics import r2_score\n",
        "from sklearn.model_selection import train_test_split\n",
        "\n",
        "#importing dataset\n",
        "url = 'https://archive.ics.uci.edu/ml/machine-learning-databases/autos/imports-85.data'\n",
        "df = pandas.read_csv(url, header=None)\n",
        "\n",
        "#removing rows with empty data\n",
        "df = df[(df != '?').all(axis=1)]\n",
        "\n",
        "#typecasting data to float\n",
        "X = df[[9,13,16,21]].astype(float)\n",
        "y = df[25].astype(float)\n",
        "\n",
        "#Divide data to train set and test set. 30% as the test data\n",
        "Xtrain, Xtest, Ytrain, Ytest = train_test_split( X, y, test_size = 0.3,random_state=42)\n",
        "\n",
        "#multivariative linear regression model\n",
        "regr = linear_model.LinearRegression()\n",
        "regr.fit(Xtrain, Ytrain)\n",
        "\n",
        "#predicted values for the test data\n",
        "predicted = regr.predict(Xtest)\n",
        "\n",
        "#r2 score\n",
        "r2 = r2_score(Ytest,predicted)\n",
        "\n",
        "print(r2)"
      ]
    }
  ]
}