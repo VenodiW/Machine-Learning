{
  "nbformat": 4,
  "nbformat_minor": 0,
  "metadata": {
    "colab": {
      "provenance": [],
      "collapsed_sections": [],
      "include_colab_link": true
    },
    "kernelspec": {
      "name": "python3",
      "display_name": "Python 3"
    },
    "language_info": {
      "name": "python"
    }
  },
  "cells": [
    {
      "cell_type": "markdown",
      "metadata": {
        "id": "view-in-github",
        "colab_type": "text"
      },
      "source": [
        "<a href=\"https://colab.research.google.com/github/VenodiW/Machine-Learning/blob/main/Logistic_Regression.ipynb\" target=\"_parent\"><img src=\"https://colab.research.google.com/assets/colab-badge.svg\" alt=\"Open In Colab\"/></a>"
      ]
    },
    {
      "cell_type": "code",
      "execution_count": null,
      "metadata": {
        "colab": {
          "base_uri": "https://localhost:8080/"
        },
        "id": "Mu4AdbrhFSny",
        "outputId": "d9ee3186-7320-414a-d87f-0cf646d1a933"
      },
      "outputs": [
        {
          "output_type": "stream",
          "name": "stdout",
          "text": [
            "Accuracy :  0.998025666337611\n"
          ]
        }
      ],
      "source": [
        "import pandas\n",
        "from sklearn import linear_model\n",
        "from sklearn.metrics import accuracy_score\n",
        "from sklearn.model_selection import train_test_split\n",
        "from sklearn.preprocessing import StandardScaler\n",
        "scale = StandardScaler()\n",
        "\n",
        "#importing dataset\n",
        "url = 'https://archive.ics.uci.edu/ml/machine-learning-databases/00640/Occupancy_Estimation.csv'\n",
        "df = pandas.read_csv(url, header=None, names=['Date','Time','S1_Temp', 'S2_Temp',\t'S3_Temp',\t'S4_Temp',\t'S1_Light',\t'S2_Light',\t'S3_Light',\t'S4_Light',\t'S1_Sound',\t'S2_Sound',\t'S3_Sound',\t'S4_Sound',\t'S5_CO2',\t'S5_CO2_Slope','S6_PIR',\t'S7_PIR',\t'Room_Occupancy_Count'])\n",
        "\n",
        "#removing first row\n",
        "df = df.iloc[1: , :]\n",
        "\n",
        "#removing rows with empty data\n",
        "df = df[(df != '?').all(axis=1)]\n",
        "\n",
        "#typecasting data to float\n",
        "X = df.loc[:,['S1_Temp','S2_Temp',\t'S3_Temp',\t'S4_Temp',\t'S1_Light',\t'S2_Light',\t'S3_Light',\t'S4_Light',\t'S1_Sound',\t'S2_Sound',\t'S3_Sound',\t'S4_Sound',\t'S5_CO2',\t'S5_CO2_Slope']].values.astype(float)\n",
        "y = df.loc[:,'Room_Occupancy_Count'].values.astype(int)\n",
        "\n",
        "#decision 0 = data: 0\n",
        "#decision 1, 2 & 3 = data: 1\n",
        "y = [0 if i==0 else 1 for i in y]\n",
        "\n",
        "#scaling data\n",
        "X = scale.fit_transform(X)\n",
        "\n",
        "#Divide data to train set and test set. 30% as the test data\n",
        "Xtrain, Xtest, Ytrain, Ytest = train_test_split( X, y, test_size = 0.3,random_state=42)\n",
        "\n",
        "#Applying Logistic Regression \n",
        "clsfr = linear_model.LogisticRegression(random_state = 0)\n",
        "clsfr.fit(Xtrain, Ytrain)\n",
        "\n",
        "#predictiing Y values Xtest\n",
        "predicted = clsfr.predict(Xtest)\n",
        "\n",
        "#Testing Accuracy\n",
        "print(\"Accuracy : \", accuracy_score(Ytest, predicted))\n"
      ]
    }
  ]
}
